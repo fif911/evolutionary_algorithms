{
 "cells": [
  {
   "cell_type": "code",
   "execution_count": 1,
   "metadata": {},
   "outputs": [
    {
     "name": "stdout",
     "output_type": "stream",
     "text": [
      "pygame 2.5.1 (SDL 2.28.2, Python 3.9.17)\n",
      "Hello from the pygame community. https://www.pygame.org/contribute.html\n"
     ]
    }
   ],
   "source": [
    "import os\n",
    "import numpy as np\n",
    "import pandas as pd\n",
    "import seaborn as sns\n",
    "import matplotlib.pyplot as plt\n",
    "from scipy import optimize\n",
    "\n",
    "from sklearn.metrics import accuracy_score, f1_score\n",
    "from pymoo.core.problem import Problem\n",
    "from evoman.environment import Environment\n",
    "from fitness_functions import original_fitness, individual_gain\n",
    "from utils import simulation, verify_solution, init_env, run_pymoo_algorithm, initialise_script\n",
    "import math\n"
   ]
  },
  {
   "cell_type": "code",
   "execution_count": 2,
   "metadata": {},
   "outputs": [],
   "source": [
    "solutions = []\n",
    "for file in os.listdir('solutions_beats_5_enemies'):\n",
    "    if file.startswith('pymoo'):\n",
    "        new_solution = []\n",
    "        with open(f'solutions_beats_5_enemies/{file}') as f:\n",
    "            solutions.append(f.read().splitlines())\n",
    "            \n",
    "solutions = np.array(solutions, dtype=float)"
   ]
  },
  {
   "cell_type": "code",
   "execution_count": 3,
   "metadata": {},
   "outputs": [],
   "source": [
    "seed = 42\n",
    "POP_SIZE = 1\n",
    "ENEMIES = [1, 2, 3, 4, 5, 6, 7, 8]\n",
    "n_hidden_neurons = 10\n"
   ]
  },
  {
   "cell_type": "code",
   "execution_count": 9,
   "metadata": {},
   "outputs": [],
   "source": [
    "class objectives(Problem):\n",
    "    enemies: list[int]\n",
    "    env: Environment\n",
    "\n",
    "    def __init__(self, env: Environment, n_genes: int, enemies: list[int], n_objectives):\n",
    "        self.env = env\n",
    "        self.enemies = enemies\n",
    "        super().__init__(n_var=n_genes, n_obj=n_objectives, xl=-1, xu=1, type_var=float)\n",
    "\n",
    "    def _evaluate(self, x: list[np.array], out, *args, **kwargs):\n",
    "        #if POP_SIZE != len(x):\n",
    "        #    print(f\"WARNING: POP_SIZE != len(x) in evaluation step (this happens sometimes do not see why)\\n\"\n",
    "        #          f\"pop size: {POP_SIZE}; len x:{len(x)}\")\n",
    "        # Initialize\n",
    "        dict_enemies = {}\n",
    "        # Get fitness for each enemy\n",
    "        for enemy in self.enemies:\n",
    "            self.env.update_parameter('enemies', [enemy])\n",
    "\n",
    "            dict_enemies[enemy] = []\n",
    "            for individual_id in range(len(x)):\n",
    "                dict_enemies[enemy].append(\n",
    "                    simulation(self.env, x[individual_id], inverted_fitness=True, fitness_function=individual_gain))\n",
    "\n",
    "        # Return fitness outputs for enemies\n",
    "        objectives_fitness = {\n",
    "            \"objective_hard\": [np.mean([dict_enemies[enemy_id][ind_id] for enemy_id in [1, 6]]) for ind_id in\n",
    "                               range(len(x))],\n",
    "            \"objective_medium\": [np.mean([dict_enemies[enemy_id][ind_id] for enemy_id in [2, 5, 8]]) for ind_id in\n",
    "                                 range(len(x))],\n",
    "            \"objective_easy\": [np.mean([dict_enemies[enemy_id][ind_id] for enemy_id in [3, 4, 7]]) for ind_id in\n",
    "                               range(len(x))],\n",
    "        }\n",
    "\n",
    "        out[\"F\"] = np.column_stack([objectives_fitness[key] for key in objectives_fitness.keys()])\n",
    "        return out"
   ]
  },
  {
   "cell_type": "code",
   "execution_count": 5,
   "metadata": {},
   "outputs": [],
   "source": [
    "env, n_genes = init_env('local_search_test', ENEMIES, n_hidden_neurons)\n",
    "env.update_parameter('multiplemode', 'no')\n",
    "problem = objectives(\n",
    "        env=env,\n",
    "        n_genes=n_genes,\n",
    "        enemies=ENEMIES,\n",
    "        n_objectives=3)"
   ]
  },
  {
   "cell_type": "code",
   "execution_count": 6,
   "metadata": {},
   "outputs": [
    {
     "name": "stdout",
     "output_type": "stream",
     "text": [
      "[[0.00607702 0.00324837 0.00391076]]\n"
     ]
    }
   ],
   "source": [
    "x_curr = solutions[[np.random.rand],:]\n",
    "x_best = np.copy(x_curr)\n",
    "\n",
    "f_curr = problem._evaluate(x_curr, {})['F']\n",
    "f_best, f_best_orig = np.copy(f_curr), np.copy(f_curr)\n",
    "\n",
    "n_nbrs = 25\n",
    "\n",
    "print(f_best_orig)"
   ]
  },
  {
   "cell_type": "code",
   "execution_count": 23,
   "metadata": {},
   "outputs": [],
   "source": [
    "# This is the function that needs to be defined, this is how you find neighbors of solution x\n",
    "# For now, it gives a neighborhood of n neighbors where every neighbor's gene has a SMALL chance to be altered SLIGHTLY.\n",
    "# I could not find clear examples of algorithms for the neighbor generating functions, so this will have to do for now\n",
    "\n",
    "def neighborhood(x, n, p_mut=0.05, sigma=0.05):\n",
    "    nbrhood = []\n",
    "    for _ in range(n):\n",
    "        # Make new copy of solution\n",
    "        new_nbr = np.copy(x)\n",
    "        \n",
    "        # Make probability vector for 'mutating'\n",
    "        p = np.random.uniform(size=new_nbr.shape[1])\n",
    "        \n",
    "        # 'Mutate' genes\n",
    "        new_nbr[0][p < p_mut] = new_nbr[0][p < p_mut] * np.random.normal(0, sigma)     \n",
    "        \n",
    "        # Add neighbor to neighborhood\n",
    "        nbrhood.append(new_nbr)\n",
    "    \n",
    "    return nbrhood"
   ]
  },
  {
   "cell_type": "code",
   "execution_count": 32,
   "metadata": {},
   "outputs": [
    {
     "name": "stdout",
     "output_type": "stream",
     "text": [
      "Total number of solutions checked: 25\n",
      "Best value found so far: [[0.00694836 0.0059943  0.00650197]] ([[143.91877804 166.82505156 153.79965396]])\n",
      "Final number of solutions checked: 50\n",
      "New solution inverted fitness: [[0.00694836 0.0059943  0.00650197]] ([[143.91877804 166.82505156 153.79965396]])\n",
      "Initial solution fitness: [[0.00607702 0.00324837 0.00391076]] ([[164.55421239 307.84687569 255.70459067]])\n"
     ]
    }
   ],
   "source": [
    "done = False\n",
    "solutionsChecked = 0\n",
    "method = 'steepest ascent'\n",
    "\n",
    "# Steepest ascent local search searches until no better neighbor is found\n",
    "# First ascent local search searches until the first better neighbor is found\n",
    "while not done:\n",
    "    \n",
    "    # Make new neighborhood\n",
    "    Neighborhood = neighborhood(x_curr, 25, 0.05)\n",
    "    \n",
    "    # Evaluate every neighbor s\n",
    "    for s in Neighborhood:\n",
    "        solutionsChecked += 1\n",
    "        \n",
    "        try:\n",
    "            eval_s = problem._evaluate(s, {})['F']\n",
    "        except:\n",
    "            # print(\"Infeasible solution evaluated\")\n",
    "            continue\n",
    "        \n",
    "        # If the neighbor has a better fitness evaluation, this becomes the new best\n",
    "        if eval_s[0].mean() < f_best[0].mean():\n",
    "            x_best = np.copy(s)\n",
    "            f_best = np.copy(eval_s)\n",
    "    \n",
    "    # Run until no further improvements (steepest ascent)\n",
    "    if np.array_equal(f_best, f_curr):\n",
    "        done = True\n",
    "    else:\n",
    "        x_curr = np.copy(x_best)\n",
    "        f_curr = np.copy(f_best)\n",
    "        \n",
    "        print(f\"Total number of solutions checked: {solutionsChecked}\")\n",
    "        print(f\"Best value found so far: {f_best} ({1 / f_best})\")\n",
    "        \n",
    "print(f\"Final number of solutions checked: {solutionsChecked}\")\n",
    "print(f\"New solution inverted fitness: {f_best} ({1 / f_best})\")\n",
    "print(f\"Initial solution fitness: {f_best_orig} ({1 / f_best_orig})\")"
   ]
  },
  {
   "cell_type": "code",
   "execution_count": null,
   "metadata": {},
   "outputs": [],
   "source": [
    "x_curr = solutions[[0],:]\n",
    "x_best = np.copy(x_curr)\n",
    "\n",
    "f_curr = problem._evaluate(solutions, {})['F']\n",
    "f_best = np.copy(f_curr)\n",
    "\n",
    "print(f_curr)"
   ]
  },
  {
   "cell_type": "code",
   "execution_count": 12,
   "metadata": {},
   "outputs": [
    {
     "name": "stdout",
     "output_type": "stream",
     "text": [
      "Temperature lowered to 80000.0 (s= 5)\n",
      "Temperature lowered to 64000.0 (s= 10)\n",
      "Temperature lowered to 51200.0 (s= 15)\n",
      "Temperature lowered to 40960.0 (s= 20)\n",
      "Temperature lowered to 32768.0 (s= 25)\n",
      "Temperature lowered to 26214.4 (s= 30)\n",
      "Temperature lowered to 20971.520000000004 (s= 35)\n",
      "Temperature lowered to 16777.216000000004 (s= 40)\n",
      "Temperature lowered to 13421.772800000004 (s= 45)\n",
      "Temperature lowered to 10737.418240000005 (s= 50)\n",
      "Temperature lowered to 8589.934592000003 (s= 55)\n",
      "Temperature lowered to 6871.947673600003 (s= 60)\n",
      "Temperature lowered to 5497.558138880003 (s= 65)\n",
      "Temperature lowered to 4398.046511104002 (s= 70)\n",
      "Temperature lowered to 3518.437208883202 (s= 75)\n",
      "Temperature lowered to 2814.7497671065616 (s= 80)\n",
      "Temperature lowered to 2251.7998136852493 (s= 85)\n",
      "Temperature lowered to 1801.4398509481996 (s= 90)\n",
      "Temperature lowered to 1441.1518807585599 (s= 95)\n",
      "Temperature lowered to 1152.921504606848 (s= 100)\n",
      "Temperature lowered to 922.3372036854785 (s= 105)\n",
      "Temperature lowered to 737.8697629483828 (s= 110)\n",
      "Temperature lowered to 590.2958103587063 (s= 115)\n",
      "Temperature lowered to 472.236648286965 (s= 120)\n",
      "Temperature lowered to 377.78931862957205 (s= 125)\n",
      "Temperature lowered to 302.23145490365766 (s= 130)\n",
      "Temperature lowered to 241.78516392292613 (s= 135)\n",
      "Temperature lowered to 193.42813113834092 (s= 140)\n",
      "Temperature lowered to 154.74250491067275 (s= 145)\n",
      "Temperature lowered to 123.7940039285382 (s= 150)\n",
      "Temperature lowered to 99.03520314283057 (s= 155)\n",
      "Temperature lowered to 79.22816251426445 (s= 160)\n",
      "Temperature lowered to 63.38253001141157 (s= 165)\n",
      "Temperature lowered to 50.70602400912926 (s= 170)\n",
      "Temperature lowered to 40.56481920730341 (s= 175)\n",
      "Temperature lowered to 32.451855365842725 (s= 180)\n",
      "Temperature lowered to 25.961484292674182 (s= 185)\n",
      "Temperature lowered to 20.769187434139347 (s= 190)\n",
      "Temperature lowered to 16.61534994731148 (s= 195)\n",
      "Temperature lowered to 13.292279957849184 (s= 200)\n",
      "Temperature lowered to 10.633823966279348 (s= 205)\n"
     ]
    },
    {
     "name": "stderr",
     "output_type": "stream",
     "text": [
      "C:\\Users\\beuze\\AppData\\Local\\Temp\\ipykernel_17616\\3918058655.py:31: RuntimeWarning: overflow encountered in exp\n",
      "  p = np.exp(-(f_curr[0].mean() - eval_s[0].mean()) / (t * 1e-7))\n"
     ]
    },
    {
     "name": "stdout",
     "output_type": "stream",
     "text": [
      "Temperature lowered to 8.507059173023478 (s= 210)\n",
      "Temperature lowered to 6.805647338418783 (s= 215)\n",
      "Temperature lowered to 5.444517870735027 (s= 220)\n",
      "Temperature lowered to 4.355614296588022 (s= 225)\n",
      "Temperature lowered to 3.4844914372704174 (s= 230)\n",
      "Temperature lowered to 2.787593149816334 (s= 235)\n",
      "Temperature lowered to 2.2300745198530674 (s= 240)\n",
      "Temperature lowered to 1.784059615882454 (s= 245)\n",
      "Temperature lowered to 1.4272476927059632 (s= 250)\n",
      "Temperature lowered to 1.1417981541647706 (s= 255)\n",
      "Temperature lowered to 0.9134385233318165 (s= 260)\n",
      "Temperature lowered to 0.7307508186654532 (s= 265)\n",
      "Final number of solutions checked: 265\n",
      "New solution inverted fitness: [[0.00572779 0.00419921 0.00492248]] ([[174.58749516 238.14023757 203.14970662]])\n",
      "Initial solution fitness: [[0.00607702 0.00324837 0.00391076]] ([[164.55421239 307.84687569 255.70459067]])\n"
     ]
    }
   ],
   "source": [
    "t = 100000\n",
    "M = 5\n",
    "k = 0\n",
    "\n",
    "solutionsChecked = 0\n",
    "\n",
    "done = False\n",
    "\n",
    "# Same idea as steepest ascent, but if a neighbor is not better than the original solution, it still has a chance\n",
    "# to become the new best solution based on some probability p.\n",
    "# the rate at which this happens is controlled by the temperature T.\n",
    "while not done:\n",
    "    if t < 1:\n",
    "        done = True\n",
    "    \n",
    "    m = 0\n",
    "    while m < M:\n",
    "        solutionsChecked += 1\n",
    "        # print(f\"k = {k}, m = {m}, s = {solutionsChecked} \\n\")\n",
    "        \n",
    "        N = neighborhood(x_curr, M)\n",
    "        idx = np.random.randint(len(N))\n",
    "        s = N[idx]        \n",
    "        \n",
    "        try:\n",
    "            eval_s = problem._evaluate(s, {})['F']\n",
    "        except Exception as e:\n",
    "            break\n",
    "        \n",
    "        if eval_s[0].mean() <= f_best[0].mean():\n",
    "            x_best = np.copy(s)\n",
    "            f_best = np.copy(eval_s)\n",
    "        else:\n",
    "            # In literature, the 1e-7 isn't there but if you leave it out, p=1 for almost every case, so useless\n",
    "            p = np.exp(-(f_curr[0].mean() - eval_s[0].mean()) / (t * 1e-7))\n",
    "            test_p = np.random.uniform(0, 1)\n",
    "            if test_p <= p:\n",
    "                x_best = np.copy(s)\n",
    "                f_best = np.copy(eval_s)\n",
    "        \n",
    "        m += 1\n",
    "        \n",
    "    k += 1\n",
    "    t = 0.8 * t\n",
    "    print(f\"Temperature lowered to {t} (s= {solutionsChecked})\")\n",
    "    \n",
    "print(f\"Final number of solutions checked: {solutionsChecked}\")\n",
    "print(f\"New solution inverted fitness: {f_best} ({1 / f_best})\")\n",
    "print(f\"Initial solution fitness: {f_best_orig} ({1 / f_best_orig})\")"
   ]
  }
 ],
 "metadata": {
  "kernelspec": {
   "display_name": "ec110",
   "language": "python",
   "name": "python3"
  },
  "language_info": {
   "codemirror_mode": {
    "name": "ipython",
    "version": 3
   },
   "file_extension": ".py",
   "mimetype": "text/x-python",
   "name": "python",
   "nbconvert_exporter": "python",
   "pygments_lexer": "ipython3",
   "version": "3.9.17"
  }
 },
 "nbformat": 4,
 "nbformat_minor": 2
}
