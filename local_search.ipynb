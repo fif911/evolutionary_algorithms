{
 "cells": [
  {
   "cell_type": "code",
   "execution_count": 5,
   "metadata": {},
   "outputs": [],
   "source": [
    "\n",
    "import numpy as np\n",
    "import os\n",
    "from pymoo.core.problem import Problem\n",
    "from utils import simulation, init_env, run_pymoo_algorithm, run_pymoo_algorithm\n",
    "from fitness_functions import original_fitness, individual_gain\n",
    "\n",
    "\n",
    "from evoman.environment import Environment\n",
    "from pymoo.algorithms.soo.nonconvex.pattern import PatternSearch\n",
    "from pymoo.optimize import minimize\n",
    "from pymoo.problems.single import Himmelblau"
   ]
  },
  {
   "cell_type": "code",
   "execution_count": 2,
   "metadata": {},
   "outputs": [],
   "source": [
    "class objectives(Problem):\n",
    "    enemies: list[int]\n",
    "    env: Environment\n",
    "\n",
    "    def __init__(self, env: Environment, n_genes: int, enemies: list[int], n_objectives):\n",
    "        self.env = env\n",
    "        self.enemies = enemies\n",
    "        super().__init__(n_var=n_genes, n_obj=n_objectives, xl=-1, xu=1, type_var=float)\n",
    "\n",
    "    def _evaluate(self, x: list[np.array], out, *args, **kwargs):\n",
    "        \"\"\"Evaluate the fitness of each individual in the population\n",
    "        We can turn on elementwise_evaluation to evaluate each individual in the population separately\n",
    "        https://pymoo.org/problems/parallelization.html#Custom-Parallelization\n",
    "\n",
    "        x - list of individuals in the population\n",
    "        out - dictionary with the fitness outputs\n",
    "\n",
    "        # when we have multiple enemies we need to average the fitness somehow\n",
    "        # Ideas: mean of the fitness will show how agent performs with both enemies\n",
    "        #        max will show how agent performs with the worst enemy (this does not reflect the performance with\n",
    "        #        another enemy)\n",
    "        #        weighted average is another option, but then we have another problem of how to weight the enemies\n",
    "        \"\"\"\n",
    "        if POP_SIZE != len(x):\n",
    "            print(f\"WARNING: POP_SIZE != len(x) in evaluation step (this happens sometimes do not see why)\\n\"\n",
    "                  f\"pop size: {POP_SIZE}; len x:{len(x)}\")\n",
    "        # Initialize\n",
    "        dict_enemies = {}\n",
    "        # Get fitness for each enemy\n",
    "        for enemy in self.enemies:\n",
    "            self.env.update_parameter('enemies', [enemy])\n",
    "\n",
    "            dict_enemies[enemy] = []\n",
    "            for individual_id in range(len(x)):\n",
    "                dict_enemies[enemy].append(\n",
    "                    simulation(self.env, x[individual_id], inverted_fitness=True, fitness_function=individual_gain))\n",
    "\n",
    "        # Return fitness outputs for enemies\n",
    "        objectives_fitness = {\n",
    "            \"objective_hard\": [np.mean([dict_enemies[enemy_id][ind_id] for enemy_id in [1, 6]]) for ind_id in\n",
    "                               range(len(x))],\n",
    "            \"objective_medium\": [np.mean([dict_enemies[enemy_id][ind_id] for enemy_id in [2, 5, 8]]) for ind_id in\n",
    "                                 range(len(x))],\n",
    "            \"objective_easy\": [np.mean([dict_enemies[enemy_id][ind_id] for enemy_id in [3, 4, 7]]) for ind_id in\n",
    "                               range(len(x))],\n",
    "        }\n"
   ]
  },
  {
   "cell_type": "code",
   "execution_count": 3,
   "metadata": {},
   "outputs": [],
   "source": [
    "solutions = []\n",
    "for file in os.listdir('solutions_beats_5_enemies'):\n",
    "    if file.startswith('pymoo'):\n",
    "        new_solution = []\n",
    "        with open(f'solutions_beats_5_enemies/{file}') as f:\n",
    "            solutions.append(f.read().splitlines())\n",
    "            \n",
    "solutions = np.array(solutions, dtype=float)"
   ]
  },
  {
   "cell_type": "code",
   "execution_count": 4,
   "metadata": {},
   "outputs": [],
   "source": [
    "ENEMIES = [2, 3, 6]\n",
    "env, n_genes = init_env('local_search_test', ENEMIES, 10)\n",
    "problem = objectives(\n",
    "        env=env,\n",
    "        n_genes=n_genes,\n",
    "        enemies=ENEMIES,\n",
    "        n_objectives=1)"
   ]
  },
  {
   "cell_type": "code",
   "execution_count": 16,
   "metadata": {},
   "outputs": [
    {
     "ename": "SystemExit",
     "evalue": "0",
     "output_type": "error",
     "traceback": [
      "An exception has occurred, use %tb to see the full traceback.\n",
      "\u001b[1;31mSystemExit\u001b[0m\u001b[1;31m:\u001b[0m 0\n"
     ]
    },
    {
     "name": "stderr",
     "output_type": "stream",
     "text": [
      "c:\\Users\\beuze\\anaconda3\\envs\\ec110\\lib\\site-packages\\IPython\\core\\interactiveshell.py:3534: UserWarning: To exit: use 'exit', 'quit', or Ctrl-D.\n",
      "  warn(\"To exit: use 'exit', 'quit', or Ctrl-D.\", stacklevel=1)\n"
     ]
    }
   ],
   "source": [
    "POP_SIZE = solutions.shape[0]\n",
    "\n",
    "algorithm = PatternSearch(x0=solutions)\n",
    "algorithm.setup(problem, termination=('n_gen', 5), verbose=False)\n",
    "algorithm = run_pymoo_algorithm(algorithm, problem)\n",
    "res = algorithm.result()\n",
    "res"
   ]
  },
  {
   "cell_type": "code",
   "execution_count": 15,
   "metadata": {},
   "outputs": [
    {
     "ename": "SystemExit",
     "evalue": "0",
     "output_type": "error",
     "traceback": [
      "\u001b[1;31m---------------------------------------------------------------------------\u001b[0m",
      "\u001b[1;31mSystemExit\u001b[0m                                Traceback (most recent call last)",
      "\u001b[1;32mc:\\Users\\beuze\\Documents\\Studie\\Forensic Science\\Evolutionary Computing\\evolutionary_algorithms\\local_search.ipynb Cell 6\u001b[0m line \u001b[0;36m5\n\u001b[0;32m      <a href='vscode-notebook-cell:/c%3A/Users/beuze/Documents/Studie/Forensic%20Science/Evolutionary%20Computing/evolutionary_algorithms/local_search.ipynb#W5sZmlsZQ%3D%3D?line=2'>3</a>\u001b[0m algorithm \u001b[39m=\u001b[39m PatternSearch(x0\u001b[39m=\u001b[39msolutions)\n\u001b[0;32m      <a href='vscode-notebook-cell:/c%3A/Users/beuze/Documents/Studie/Forensic%20Science/Evolutionary%20Computing/evolutionary_algorithms/local_search.ipynb#W5sZmlsZQ%3D%3D?line=3'>4</a>\u001b[0m algorithm\u001b[39m.\u001b[39msetup(problem, termination\u001b[39m=\u001b[39m(\u001b[39m'\u001b[39m\u001b[39mn_gen\u001b[39m\u001b[39m'\u001b[39m, \u001b[39m5\u001b[39m), verbose\u001b[39m=\u001b[39m\u001b[39mFalse\u001b[39;00m)\n\u001b[1;32m----> <a href='vscode-notebook-cell:/c%3A/Users/beuze/Documents/Studie/Forensic%20Science/Evolutionary%20Computing/evolutionary_algorithms/local_search.ipynb#W5sZmlsZQ%3D%3D?line=4'>5</a>\u001b[0m algorithm \u001b[39m=\u001b[39m run_pymoo_algorithm(algorithm, problem)\n\u001b[0;32m      <a href='vscode-notebook-cell:/c%3A/Users/beuze/Documents/Studie/Forensic%20Science/Evolutionary%20Computing/evolutionary_algorithms/local_search.ipynb#W5sZmlsZQ%3D%3D?line=5'>6</a>\u001b[0m res \u001b[39m=\u001b[39m algorithm\u001b[39m.\u001b[39mresult()\n\u001b[0;32m      <a href='vscode-notebook-cell:/c%3A/Users/beuze/Documents/Studie/Forensic%20Science/Evolutionary%20Computing/evolutionary_algorithms/local_search.ipynb#W5sZmlsZQ%3D%3D?line=6'>7</a>\u001b[0m res\n",
      "File \u001b[1;32mc:\\Users\\beuze\\Documents\\Studie\\Forensic Science\\Evolutionary Computing\\evolutionary_algorithms\\utils.py:89\u001b[0m, in \u001b[0;36mrun_pymoo_algorithm\u001b[1;34m(algorithm, problem, experiment_name, postfix)\u001b[0m\n\u001b[0;32m     87\u001b[0m pop \u001b[39m=\u001b[39m algorithm\u001b[39m.\u001b[39mask()\n\u001b[0;32m     88\u001b[0m \u001b[39m# evaluate the individuals using the algorithm's evaluator (necessary to count evaluations for termination)\u001b[39;00m\n\u001b[1;32m---> 89\u001b[0m algorithm\u001b[39m.\u001b[39;49mevaluator\u001b[39m.\u001b[39;49meval(problem, pop)\n\u001b[0;32m     90\u001b[0m \u001b[39m# returned the evaluated individuals which have been evaluated or even modified\u001b[39;00m\n\u001b[0;32m     91\u001b[0m algorithm\u001b[39m.\u001b[39mtell(infills\u001b[39m=\u001b[39mpop)\n",
      "File \u001b[1;32mc:\\Users\\beuze\\anaconda3\\envs\\ec110\\lib\\site-packages\\pymoo\\core\\evaluator.py:69\u001b[0m, in \u001b[0;36mEvaluator.eval\u001b[1;34m(self, problem, pop, skip_already_evaluated, evaluate_values_of, count_evals, **kwargs)\u001b[0m\n\u001b[0;32m     65\u001b[0m \u001b[39m# evaluate the solutions (if there are any)\u001b[39;00m\n\u001b[0;32m     66\u001b[0m \u001b[39mif\u001b[39;00m \u001b[39mlen\u001b[39m(I) \u001b[39m>\u001b[39m \u001b[39m0\u001b[39m:\n\u001b[0;32m     67\u001b[0m \n\u001b[0;32m     68\u001b[0m     \u001b[39m# do the actual evaluation - call the sub-function to set the corresponding values to the population\u001b[39;00m\n\u001b[1;32m---> 69\u001b[0m     \u001b[39mself\u001b[39m\u001b[39m.\u001b[39m_eval(problem, pop[I], evaluate_values_of, \u001b[39m*\u001b[39m\u001b[39m*\u001b[39mkwargs)\n\u001b[0;32m     71\u001b[0m \u001b[39m# update the function evaluation counter\u001b[39;00m\n\u001b[0;32m     72\u001b[0m \u001b[39mif\u001b[39;00m count_evals:\n",
      "File \u001b[1;32mc:\\Users\\beuze\\anaconda3\\envs\\ec110\\lib\\site-packages\\pymoo\\core\\evaluator.py:90\u001b[0m, in \u001b[0;36mEvaluator._eval\u001b[1;34m(self, problem, pop, evaluate_values_of, **kwargs)\u001b[0m\n\u001b[0;32m     87\u001b[0m X \u001b[39m=\u001b[39m pop\u001b[39m.\u001b[39mget(\u001b[39m\"\u001b[39m\u001b[39mX\u001b[39m\u001b[39m\"\u001b[39m)\n\u001b[0;32m     89\u001b[0m \u001b[39m# call the problem to evaluate the solutions\u001b[39;00m\n\u001b[1;32m---> 90\u001b[0m out \u001b[39m=\u001b[39m problem\u001b[39m.\u001b[39mevaluate(X, return_values_of\u001b[39m=\u001b[39mevaluate_values_of, return_as_dictionary\u001b[39m=\u001b[39m\u001b[39mTrue\u001b[39;00m, \u001b[39m*\u001b[39m\u001b[39m*\u001b[39mkwargs)\n\u001b[0;32m     92\u001b[0m \u001b[39m# for each of the attributes set it to the problem\u001b[39;00m\n\u001b[0;32m     93\u001b[0m \u001b[39mfor\u001b[39;00m key, val \u001b[39min\u001b[39;00m out\u001b[39m.\u001b[39mitems():\n",
      "File \u001b[1;32mc:\\Users\\beuze\\anaconda3\\envs\\ec110\\lib\\site-packages\\pymoo\\core\\problem.py:187\u001b[0m, in \u001b[0;36mProblem.evaluate\u001b[1;34m(self, X, return_values_of, return_as_dictionary, *args, **kwargs)\u001b[0m\n\u001b[0;32m    184\u001b[0m     only_single_value \u001b[39m=\u001b[39m \u001b[39mnot\u001b[39;00m (\u001b[39misinstance\u001b[39m(X, \u001b[39mlist\u001b[39m) \u001b[39mor\u001b[39;00m \u001b[39misinstance\u001b[39m(X, np\u001b[39m.\u001b[39mndarray))\n\u001b[0;32m    186\u001b[0m \u001b[39m# this is where the actual evaluation takes place\u001b[39;00m\n\u001b[1;32m--> 187\u001b[0m _out \u001b[39m=\u001b[39m \u001b[39mself\u001b[39m\u001b[39m.\u001b[39mdo(X, return_values_of, \u001b[39m*\u001b[39margs, \u001b[39m*\u001b[39m\u001b[39m*\u001b[39mkwargs)\n\u001b[0;32m    189\u001b[0m out \u001b[39m=\u001b[39m {}\n\u001b[0;32m    190\u001b[0m \u001b[39mfor\u001b[39;00m k, v \u001b[39min\u001b[39;00m _out\u001b[39m.\u001b[39mitems():\n\u001b[0;32m    191\u001b[0m \n\u001b[0;32m    192\u001b[0m     \u001b[39m# copy it to a numpy array (it might be one of jax at this point)\u001b[39;00m\n",
      "File \u001b[1;32mc:\\Users\\beuze\\anaconda3\\envs\\ec110\\lib\\site-packages\\pymoo\\core\\problem.py:229\u001b[0m, in \u001b[0;36mProblem.do\u001b[1;34m(self, X, return_values_of, *args, **kwargs)\u001b[0m\n\u001b[0;32m    227\u001b[0m     \u001b[39mself\u001b[39m\u001b[39m.\u001b[39m_evaluate_elementwise(X, out, \u001b[39m*\u001b[39margs, \u001b[39m*\u001b[39m\u001b[39m*\u001b[39mkwargs)\n\u001b[0;32m    228\u001b[0m \u001b[39melse\u001b[39;00m:\n\u001b[1;32m--> 229\u001b[0m     \u001b[39mself\u001b[39m\u001b[39m.\u001b[39m_evaluate_vectorized(X, out, \u001b[39m*\u001b[39margs, \u001b[39m*\u001b[39m\u001b[39m*\u001b[39mkwargs)\n\u001b[0;32m    231\u001b[0m \u001b[39m# finally format the output dictionary\u001b[39;00m\n\u001b[0;32m    232\u001b[0m out \u001b[39m=\u001b[39m \u001b[39mself\u001b[39m\u001b[39m.\u001b[39m_format_dict(out, \u001b[39mlen\u001b[39m(X), return_values_of)\n",
      "File \u001b[1;32mc:\\Users\\beuze\\anaconda3\\envs\\ec110\\lib\\site-packages\\pymoo\\core\\problem.py:237\u001b[0m, in \u001b[0;36mProblem._evaluate_vectorized\u001b[1;34m(self, X, out, *args, **kwargs)\u001b[0m\n\u001b[0;32m    236\u001b[0m \u001b[39mdef\u001b[39;00m \u001b[39m_evaluate_vectorized\u001b[39m(\u001b[39mself\u001b[39m, X, out, \u001b[39m*\u001b[39margs, \u001b[39m*\u001b[39m\u001b[39m*\u001b[39mkwargs):\n\u001b[1;32m--> 237\u001b[0m     \u001b[39mself\u001b[39m\u001b[39m.\u001b[39m_evaluate(X, out, \u001b[39m*\u001b[39margs, \u001b[39m*\u001b[39m\u001b[39m*\u001b[39mkwargs)\n",
      "\u001b[1;32mc:\\Users\\beuze\\Documents\\Studie\\Forensic Science\\Evolutionary Computing\\evolutionary_algorithms\\local_search.ipynb Cell 6\u001b[0m line \u001b[0;36m3\n\u001b[0;32m     <a href='vscode-notebook-cell:/c%3A/Users/beuze/Documents/Studie/Forensic%20Science/Evolutionary%20Computing/evolutionary_algorithms/local_search.ipynb#W5sZmlsZQ%3D%3D?line=32'>33</a>\u001b[0m     dict_enemies[enemy] \u001b[39m=\u001b[39m []\n\u001b[0;32m     <a href='vscode-notebook-cell:/c%3A/Users/beuze/Documents/Studie/Forensic%20Science/Evolutionary%20Computing/evolutionary_algorithms/local_search.ipynb#W5sZmlsZQ%3D%3D?line=33'>34</a>\u001b[0m     \u001b[39mfor\u001b[39;00m individual_id \u001b[39min\u001b[39;00m \u001b[39mrange\u001b[39m(\u001b[39mlen\u001b[39m(x)):\n\u001b[0;32m     <a href='vscode-notebook-cell:/c%3A/Users/beuze/Documents/Studie/Forensic%20Science/Evolutionary%20Computing/evolutionary_algorithms/local_search.ipynb#W5sZmlsZQ%3D%3D?line=34'>35</a>\u001b[0m         dict_enemies[enemy]\u001b[39m.\u001b[39mappend(\n\u001b[1;32m---> <a href='vscode-notebook-cell:/c%3A/Users/beuze/Documents/Studie/Forensic%20Science/Evolutionary%20Computing/evolutionary_algorithms/local_search.ipynb#W5sZmlsZQ%3D%3D?line=35'>36</a>\u001b[0m             simulation(\u001b[39mself\u001b[39;49m\u001b[39m.\u001b[39;49menv, x[individual_id], inverted_fitness\u001b[39m=\u001b[39;49m\u001b[39mTrue\u001b[39;49;00m, fitness_function\u001b[39m=\u001b[39;49mindividual_gain))\n\u001b[0;32m     <a href='vscode-notebook-cell:/c%3A/Users/beuze/Documents/Studie/Forensic%20Science/Evolutionary%20Computing/evolutionary_algorithms/local_search.ipynb#W5sZmlsZQ%3D%3D?line=37'>38</a>\u001b[0m \u001b[39m# Return fitness outputs for enemies\u001b[39;00m\n\u001b[0;32m     <a href='vscode-notebook-cell:/c%3A/Users/beuze/Documents/Studie/Forensic%20Science/Evolutionary%20Computing/evolutionary_algorithms/local_search.ipynb#W5sZmlsZQ%3D%3D?line=38'>39</a>\u001b[0m objectives_fitness \u001b[39m=\u001b[39m {\n\u001b[0;32m     <a href='vscode-notebook-cell:/c%3A/Users/beuze/Documents/Studie/Forensic%20Science/Evolutionary%20Computing/evolutionary_algorithms/local_search.ipynb#W5sZmlsZQ%3D%3D?line=39'>40</a>\u001b[0m     \u001b[39m\"\u001b[39m\u001b[39mobjective_hard\u001b[39m\u001b[39m\"\u001b[39m: [np\u001b[39m.\u001b[39mmean([dict_enemies[enemy_id][ind_id] \u001b[39mfor\u001b[39;00m enemy_id \u001b[39min\u001b[39;00m [\u001b[39m1\u001b[39m, \u001b[39m6\u001b[39m]]) \u001b[39mfor\u001b[39;00m ind_id \u001b[39min\u001b[39;00m\n\u001b[0;32m     <a href='vscode-notebook-cell:/c%3A/Users/beuze/Documents/Studie/Forensic%20Science/Evolutionary%20Computing/evolutionary_algorithms/local_search.ipynb#W5sZmlsZQ%3D%3D?line=40'>41</a>\u001b[0m                        \u001b[39mrange\u001b[39m(\u001b[39mlen\u001b[39m(x))],\n\u001b[1;32m   (...)\u001b[0m\n\u001b[0;32m     <a href='vscode-notebook-cell:/c%3A/Users/beuze/Documents/Studie/Forensic%20Science/Evolutionary%20Computing/evolutionary_algorithms/local_search.ipynb#W5sZmlsZQ%3D%3D?line=44'>45</a>\u001b[0m                        \u001b[39mrange\u001b[39m(\u001b[39mlen\u001b[39m(x))],\n\u001b[0;32m     <a href='vscode-notebook-cell:/c%3A/Users/beuze/Documents/Studie/Forensic%20Science/Evolutionary%20Computing/evolutionary_algorithms/local_search.ipynb#W5sZmlsZQ%3D%3D?line=45'>46</a>\u001b[0m }\n",
      "File \u001b[1;32mc:\\Users\\beuze\\Documents\\Studie\\Forensic Science\\Evolutionary Computing\\evolutionary_algorithms\\utils.py:20\u001b[0m, in \u001b[0;36msimulation\u001b[1;34m(env, xm, inverted_fitness, verbose, fitness_function)\u001b[0m\n\u001b[0;32m     10\u001b[0m \u001b[39mdef\u001b[39;00m \u001b[39msimulation\u001b[39m(env: Environment, xm: np\u001b[39m.\u001b[39mndarray, inverted_fitness\u001b[39m=\u001b[39m\u001b[39mTrue\u001b[39;00m, verbose\u001b[39m=\u001b[39m\u001b[39mFalse\u001b[39;00m,\n\u001b[0;32m     11\u001b[0m                fitness_function: Callable \u001b[39m=\u001b[39m \u001b[39mNone\u001b[39;00m):\n\u001b[0;32m     12\u001b[0m \u001b[39m    \u001b[39m\u001b[39m\"\"\"Run one episode and return the inverted fitness for minimization problem\u001b[39;00m\n\u001b[0;32m     13\u001b[0m \n\u001b[0;32m     14\u001b[0m \u001b[39m    Fitness function:\u001b[39;00m\n\u001b[1;32m   (...)\u001b[0m\n\u001b[0;32m     18\u001b[0m \u001b[39m    return_enemies: if True, return the player life, enemy life and time\u001b[39;00m\n\u001b[0;32m     19\u001b[0m \u001b[39m    \"\"\"\u001b[39;00m\n\u001b[1;32m---> 20\u001b[0m     f, p, e, t \u001b[39m=\u001b[39m env\u001b[39m.\u001b[39;49mplay(pcont\u001b[39m=\u001b[39;49mxm)\n\u001b[0;32m     21\u001b[0m     \u001b[39mif\u001b[39;00m fitness_function \u001b[39mis\u001b[39;00m \u001b[39mnot\u001b[39;00m \u001b[39mNone\u001b[39;00m:\n\u001b[0;32m     22\u001b[0m         f \u001b[39m=\u001b[39m fitness_function(p, e, t)\n",
      "File \u001b[1;32mc:\\Users\\beuze\\Documents\\Studie\\Forensic Science\\Evolutionary Computing\\evolutionary_algorithms\\evoman\\environment.py:576\u001b[0m, in \u001b[0;36mEnvironment.play\u001b[1;34m(self, pcont, econt)\u001b[0m\n\u001b[0;32m    573\u001b[0m \u001b[39mdef\u001b[39;00m \u001b[39mplay\u001b[39m(\u001b[39mself\u001b[39m, pcont\u001b[39m=\u001b[39m\u001b[39m\"\u001b[39m\u001b[39mNone\u001b[39m\u001b[39m\"\u001b[39m, econt\u001b[39m=\u001b[39m\u001b[39m\"\u001b[39m\u001b[39mNone\u001b[39m\u001b[39m\"\u001b[39m):\n\u001b[0;32m    575\u001b[0m     \u001b[39mif\u001b[39;00m \u001b[39mself\u001b[39m\u001b[39m.\u001b[39mmultiplemode \u001b[39m==\u001b[39m \u001b[39m\"\u001b[39m\u001b[39myes\u001b[39m\u001b[39m\"\u001b[39m:\n\u001b[1;32m--> 576\u001b[0m         \u001b[39mreturn\u001b[39;00m \u001b[39mself\u001b[39;49m\u001b[39m.\u001b[39;49mmultiple(pcont, econt)\n\u001b[0;32m    577\u001b[0m     \u001b[39melse\u001b[39;00m:\n\u001b[0;32m    578\u001b[0m         \u001b[39mreturn\u001b[39;00m \u001b[39mself\u001b[39m\u001b[39m.\u001b[39mrun_single(\u001b[39mself\u001b[39m\u001b[39m.\u001b[39menemies[\u001b[39m0\u001b[39m], pcont, econt)\n",
      "File \u001b[1;32mc:\\Users\\beuze\\Documents\\Studie\\Forensic Science\\Evolutionary Computing\\evolutionary_algorithms\\evoman\\environment.py:559\u001b[0m, in \u001b[0;36mEnvironment.multiple\u001b[1;34m(self, pcont, econt)\u001b[0m\n\u001b[0;32m    557\u001b[0m vfitness, vplayerlife, venemylife, vtime \u001b[39m=\u001b[39m [], [], [], []\n\u001b[0;32m    558\u001b[0m \u001b[39mfor\u001b[39;00m e \u001b[39min\u001b[39;00m \u001b[39mself\u001b[39m\u001b[39m.\u001b[39menemies:\n\u001b[1;32m--> 559\u001b[0m     fitness, playerlife, enemylife, time \u001b[39m=\u001b[39m \u001b[39mself\u001b[39;49m\u001b[39m.\u001b[39;49mrun_single(e, pcont, econt)\n\u001b[0;32m    560\u001b[0m     vfitness\u001b[39m.\u001b[39mappend(fitness)\n\u001b[0;32m    561\u001b[0m     vplayerlife\u001b[39m.\u001b[39mappend(playerlife)\n",
      "File \u001b[1;32mc:\\Users\\beuze\\Documents\\Studie\\Forensic Science\\Evolutionary Computing\\evolutionary_algorithms\\evoman\\environment.py:398\u001b[0m, in \u001b[0;36mEnvironment.run_single\u001b[1;34m(self, enemyn, pcont, econt)\u001b[0m\n\u001b[0;32m    395\u001b[0m \u001b[39mself\u001b[39m\u001b[39m.\u001b[39mpcont \u001b[39m=\u001b[39m pcont\n\u001b[0;32m    396\u001b[0m \u001b[39mself\u001b[39m\u001b[39m.\u001b[39mecont \u001b[39m=\u001b[39m econt\n\u001b[1;32m--> 398\u001b[0m \u001b[39mself\u001b[39;49m\u001b[39m.\u001b[39;49mchecks_params()\n\u001b[0;32m    400\u001b[0m \u001b[39mself\u001b[39m\u001b[39m.\u001b[39menemyn \u001b[39m=\u001b[39m enemyn  \u001b[39m# sets the current enemy\u001b[39;00m\n\u001b[0;32m    401\u001b[0m ends \u001b[39m=\u001b[39m \u001b[39m0\u001b[39m\n",
      "File \u001b[1;32mc:\\Users\\beuze\\Documents\\Studie\\Forensic Science\\Evolutionary Computing\\evolutionary_algorithms\\evoman\\environment.py:295\u001b[0m, in \u001b[0;36mEnvironment.checks_params\u001b[1;34m(self)\u001b[0m\n\u001b[0;32m    293\u001b[0m \u001b[39mif\u001b[39;00m \u001b[39mself\u001b[39m\u001b[39m.\u001b[39mmultiplemode \u001b[39m==\u001b[39m \u001b[39m\"\u001b[39m\u001b[39myes\u001b[39m\u001b[39m\"\u001b[39m \u001b[39mand\u001b[39;00m \u001b[39mlen\u001b[39m(\u001b[39mself\u001b[39m\u001b[39m.\u001b[39menemies) \u001b[39m<\u001b[39m \u001b[39m2\u001b[39m:\n\u001b[0;32m    294\u001b[0m     \u001b[39mself\u001b[39m\u001b[39m.\u001b[39mprint_logs(\u001b[39m\"\u001b[39m\u001b[39mERROR: \u001b[39m\u001b[39m'\u001b[39m\u001b[39menemies\u001b[39m\u001b[39m'\u001b[39m\u001b[39m must contain more than one enemy for multiple mode.\u001b[39m\u001b[39m\"\u001b[39m)\n\u001b[1;32m--> 295\u001b[0m     sys\u001b[39m.\u001b[39;49mexit(\u001b[39m0\u001b[39;49m)\n\u001b[0;32m    297\u001b[0m \u001b[39mif\u001b[39;00m \u001b[39mself\u001b[39m\u001b[39m.\u001b[39menemymode \u001b[39mnot\u001b[39;00m \u001b[39min\u001b[39;00m (\u001b[39m'\u001b[39m\u001b[39mstatic\u001b[39m\u001b[39m'\u001b[39m, \u001b[39m'\u001b[39m\u001b[39mai\u001b[39m\u001b[39m'\u001b[39m):\n\u001b[0;32m    298\u001b[0m     \u001b[39mself\u001b[39m\u001b[39m.\u001b[39mprint_logs(\u001b[39m\"\u001b[39m\u001b[39mERROR: \u001b[39m\u001b[39m'\u001b[39m\u001b[39menemy mode\u001b[39m\u001b[39m'\u001b[39m\u001b[39m must be \u001b[39m\u001b[39m'\u001b[39m\u001b[39mstatic\u001b[39m\u001b[39m'\u001b[39m\u001b[39m or \u001b[39m\u001b[39m'\u001b[39m\u001b[39mai\u001b[39m\u001b[39m'\u001b[39m\u001b[39m.\u001b[39m\u001b[39m\"\u001b[39m)\n",
      "\u001b[1;31mSystemExit\u001b[0m: 0"
     ]
    }
   ],
   "source": [
    "%tb"
   ]
  }
 ],
 "metadata": {
  "kernelspec": {
   "display_name": "ec110",
   "language": "python",
   "name": "python3"
  },
  "language_info": {
   "codemirror_mode": {
    "name": "ipython",
    "version": 3
   },
   "file_extension": ".py",
   "mimetype": "text/x-python",
   "name": "python",
   "nbconvert_exporter": "python",
   "pygments_lexer": "ipython3",
   "version": "3.9.17"
  }
 },
 "nbformat": 4,
 "nbformat_minor": 2
}
