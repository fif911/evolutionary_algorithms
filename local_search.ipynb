{
 "cells": [
  {
   "cell_type": "code",
   "execution_count": 1,
   "metadata": {},
   "outputs": [
    {
     "name": "stdout",
     "output_type": "stream",
     "text": [
      "pygame 2.5.1 (SDL 2.28.2, Python 3.9.17)\n",
      "Hello from the pygame community. https://www.pygame.org/contribute.html\n"
     ]
    }
   ],
   "source": [
    "import os\n",
    "import numpy as np\n",
    "import pandas as pd\n",
    "import seaborn as sns\n",
    "import matplotlib.pyplot as plt\n",
    "from scipy import optimize\n",
    "\n",
    "from sklearn.metrics import accuracy_score, f1_score\n",
    "from pymoo.core.problem import Problem\n",
    "from evoman.environment import Environment\n",
    "from fitness_functions import original_fitness, individual_gain\n",
    "from utils import simulation, verify_solution, init_env, run_pymoo_algorithm, initialise_script\n",
    "import math\n"
   ]
  },
  {
   "cell_type": "code",
   "execution_count": 2,
   "metadata": {},
   "outputs": [],
   "source": [
    "solutions = []\n",
    "for file in os.listdir('farmed_beats_8'):\n",
    "    new_solution = []\n",
    "    with open(f'farmed_beats_8/{file}') as f:\n",
    "        solutions.append(f.read().splitlines())\n",
    "            \n",
    "solutions = np.array(solutions, dtype=float)"
   ]
  },
  {
   "cell_type": "code",
   "execution_count": 3,
   "metadata": {},
   "outputs": [],
   "source": [
    "POP_SIZE = 1\n",
    "ENEMIES = [1, 2, 3, 4, 5, 6, 7, 8]\n",
    "n_hidden_neurons = 10"
   ]
  },
  {
   "cell_type": "code",
   "execution_count": 4,
   "metadata": {},
   "outputs": [],
   "source": [
    "class objectives(Problem):\n",
    "    enemies: list[int]\n",
    "    env: Environment\n",
    "\n",
    "    def __init__(self, env: Environment, n_genes: int, enemies: list[int], n_objectives):\n",
    "        self.env = env\n",
    "        self.enemies = enemies\n",
    "        super().__init__(n_var=n_genes, n_obj=n_objectives, xl=-1, xu=1, type_var=float)\n",
    "\n",
    "    def _evaluate(self, x: list[np.array], out, *args, **kwargs):\n",
    "        #if POP_SIZE != len(x):\n",
    "        #    print(f\"WARNING: POP_SIZE != len(x) in evaluation step (this happens sometimes do not see why)\\n\"\n",
    "        #          f\"pop size: {POP_SIZE}; len x:{len(x)}\")\n",
    "        # Initialize\n",
    "        dict_enemies = {}\n",
    "        # Get fitness for each enemy\n",
    "        for enemy in self.enemies:\n",
    "            self.env.update_parameter('enemies', [enemy])\n",
    "\n",
    "            dict_enemies[enemy] = []\n",
    "            for individual_id in range(len(x)):\n",
    "                dict_enemies[enemy].append(\n",
    "                    simulation(self.env, x[individual_id], inverted_fitness=True, fitness_function=individual_gain))\n",
    "\n",
    "        # Return fitness outputs for enemies\n",
    "        objectives_fitness = {\n",
    "            \"objective_hard\": [np.mean([dict_enemies[enemy_id][ind_id] for enemy_id in [1, 6]]) for ind_id in\n",
    "                               range(len(x))],\n",
    "            \"objective_medium\": [np.mean([dict_enemies[enemy_id][ind_id] for enemy_id in [2, 5, 8]]) for ind_id in\n",
    "                                 range(len(x))],\n",
    "            \"objective_easy\": [np.mean([dict_enemies[enemy_id][ind_id] for enemy_id in [3, 4, 7]]) for ind_id in\n",
    "                               range(len(x))],\n",
    "        }\n",
    "\n",
    "        out[\"F\"] = np.column_stack([objectives_fitness[key] for key in objectives_fitness.keys()])\n",
    "        return out"
   ]
  },
  {
   "cell_type": "code",
   "execution_count": 5,
   "metadata": {},
   "outputs": [],
   "source": [
    "env, n_genes = init_env('local_search_test', ENEMIES, n_hidden_neurons)\n",
    "env.update_parameter('multiplemode', 'no')\n",
    "problem = objectives(\n",
    "        env=env,\n",
    "        n_genes=n_genes,\n",
    "        enemies=ENEMIES,\n",
    "        n_objectives=3)"
   ]
  },
  {
   "cell_type": "code",
   "execution_count": 38,
   "metadata": {},
   "outputs": [
    {
     "name": "stdout",
     "output_type": "stream",
     "text": [
      "[[0.00325098 0.0031085  0.00326986]]\n"
     ]
    }
   ],
   "source": [
    "x_curr = solutions[[253],:]\n",
    "x_best = np.copy(x_curr)\n",
    "\n",
    "f_curr = problem._evaluate(x_curr, {})['F']\n",
    "f_best, f_best_orig = np.copy(f_curr), np.copy(f_curr)\n",
    "\n",
    "n_nbrs = 25\n",
    "\n",
    "print(f_best_orig)"
   ]
  },
  {
   "cell_type": "code",
   "execution_count": 6,
   "metadata": {},
   "outputs": [],
   "source": [
    "# This is the function that needs to be defined, this is how you find neighbors of solution x\n",
    "# For now, it gives a neighborhood of n neighbors where every neighbor's gene has a SMALL chance to be altered SLIGHTLY.\n",
    "# I could not find clear examples of algorithms for the neighbor generating functions, so this will have to do for now\n",
    "\n",
    "def neighborhood(x, n, p_mut=0.025, sigma=0.1):\n",
    "    nbrhood = []\n",
    "    for _ in range(n):\n",
    "        # Make new copy of solution\n",
    "        new_nbr = np.copy(x)\n",
    "        \n",
    "        # Make probability vector for 'mutating'\n",
    "        p = np.random.uniform(size=new_nbr.shape[1])\n",
    "        \n",
    "        # 'Mutate' genes\n",
    "        new_nbr[0][p < p_mut] = new_nbr[0][p < p_mut] * np.random.normal(0, sigma)     \n",
    "        \n",
    "        # Add neighbor to neighborhood\n",
    "        nbrhood.append(new_nbr)\n",
    "    \n",
    "    return nbrhood"
   ]
  },
  {
   "cell_type": "code",
   "execution_count": null,
   "metadata": {},
   "outputs": [],
   "source": [
    "done = False\n",
    "solutionsChecked = 0\n",
    "method = 'steepest ascent'\n",
    "m = 0\n",
    "# Steepest ascent local search searches until no better neighbor is found\n",
    "# First ascent local search searches until the first better neighbor is found\n",
    "while not done:\n",
    "    \n",
    "    # Make new neighborhood\n",
    "    Neighborhood = neighborhood(x_curr, 25)\n",
    "    \n",
    "    # Evaluate every neighbor s\n",
    "    for s in Neighborhood:\n",
    "        solutionsChecked += 1\n",
    "        \n",
    "        try:\n",
    "            eval_s = problem._evaluate(s, {})['F']\n",
    "        except:\n",
    "            # print(\"Infeasible solution evaluated\")\n",
    "            continue\n",
    "        \n",
    "        # If the neighbor has a better fitness evaluation, this becomes the new best\n",
    "        if eval_s[0].mean() < f_best[0].mean():\n",
    "            x_best = np.copy(s)\n",
    "            f_best = np.copy(eval_s)\n",
    "    \n",
    "    # Run until no further improvements (steepest ascent)\n",
    "    if np.array_equal(f_best, f_curr):\n",
    "        if m >= 20:\n",
    "            done = True\n",
    "        else:\n",
    "            m += 1\n",
    "    else:\n",
    "        x_curr = np.copy(x_best)\n",
    "        f_curr = np.copy(f_best)\n",
    "        \n",
    "    print(f\"Total number of solutions checked: {solutionsChecked}\")\n",
    "    print(f\"Best value found so far: {f_best} ({1 / f_best})\")\n",
    "        \n",
    "print(f\"Final number of solutions checked: {solutionsChecked}\")\n",
    "print(f\"New solution inverted fitness: {f_best} ({1 / f_best})\")\n",
    "print(f\"Initial solution fitness: {f_best_orig} ({1 / f_best_orig})\")"
   ]
  },
  {
   "cell_type": "code",
   "execution_count": 18,
   "metadata": {},
   "outputs": [
    {
     "name": "stdout",
     "output_type": "stream",
     "text": [
      "[[0.00325098 0.0031085  0.00326986]] 0\n"
     ]
    }
   ],
   "source": [
    "from tqdm import trange\n",
    "\n",
    "x_curr = solutions[[253],:]\n",
    "f_curr = problem._evaluate(x_curr, {})['F']\n",
    "i_curr = 0\n",
    "\n",
    "x_best, f_best, i_best = np.copy(x_curr), np.copy(f_curr), i_curr\n",
    "\n",
    "# First selecting best solution so far\n",
    "# for i in trange(1, len(solutions)):\n",
    "#     x_curr = solutions[[i],:]\n",
    "#     f_curr = problem._evaluate(x_curr, {})['F']\n",
    "#     # print(f'Evaluating solution {i}: {f_curr[0].mean()}')\n",
    "    \n",
    "#     if f_curr[0].mean() <= f_best[0].mean():\n",
    "#         x_best, f_best, i_best = np.copy(x_curr), np.copy(f_curr), i\n",
    "        \n",
    "print(f_best, i_best)"
   ]
  },
  {
   "cell_type": "code",
   "execution_count": 40,
   "metadata": {},
   "outputs": [
    {
     "name": "stdout",
     "output_type": "stream",
     "text": [
      "s= 50, t= 40000.0\n",
      "s= 100, t= 32000.0\n",
      "s= 150, t= 25600.0\n",
      "s= 200, t= 20480.0\n",
      "s= 250, t= 16384.0\n",
      "s= 300, t= 13107.2\n",
      "s= 350, t= 10485.760000000002\n",
      "s= 400, t= 8388.608000000002\n",
      "s= 450, t= 6710.886400000002\n",
      "s= 500, t= 5368.709120000002\n",
      "s= 550, t= 4294.967296000002\n",
      "s= 600, t= 3435.9738368000017\n",
      "s= 650, t= 2748.7790694400014\n",
      "s= 700, t= 2199.023255552001\n",
      "s= 750, t= 1759.218604441601\n",
      "s= 800, t= 1407.3748835532808\n",
      "s= 850, t= 1125.8999068426247\n",
      "s= 900, t= 900.7199254740998\n",
      "s= 950, t= 720.5759403792799\n",
      "s= 1000, t= 576.460752303424\n",
      "s= 1050, t= 461.16860184273924\n",
      "s= 1100, t= 368.9348814741914\n",
      "s= 1150, t= 295.14790517935313\n",
      "s= 1200, t= 236.1183241434825\n",
      "s= 1250, t= 188.89465931478603\n",
      "s= 1300, t= 151.11572745182883\n",
      "s= 1350, t= 120.89258196146307\n",
      "s= 1400, t= 96.71406556917046\n",
      "s= 1450, t= 77.37125245533637\n",
      "s= 1500, t= 61.8970019642691\n",
      "s= 1550, t= 49.517601571415284\n",
      "s= 1600, t= 39.61408125713223\n",
      "s= 1650, t= 31.691265005705784\n",
      "s= 1700, t= 25.35301200456463\n",
      "s= 1750, t= 20.282409603651704\n",
      "s= 1800, t= 16.225927682921363\n",
      "s= 1850, t= 12.980742146337091\n",
      "s= 1900, t= 10.384593717069674\n",
      "s= 1950, t= 8.30767497365574\n",
      "s= 2000, t= 6.646139978924592\n",
      "s= 2050, t= 5.316911983139674\n",
      "s= 2100, t= 4.253529586511739\n",
      "s= 2150, t= 3.4028236692093916\n",
      "s= 2200, t= 2.7222589353675133\n",
      "s= 2250, t= 2.177807148294011\n",
      "s= 2300, t= 1.7422457186352087\n",
      "s= 2350, t= 1.393796574908167\n",
      "s= 2400, t= 1.1150372599265337\n",
      "s= 2450, t= 0.892029807941227\n",
      "s= 2500, t= 0.7136238463529816\n",
      "Final number of solutions checked: 2500\n",
      "New solution inverted fitness: [[0.00325098 0.0031085  0.00326986]] ([[307.59928773 321.69840758 305.82359115]])\n",
      "Initial solution fitness: [[0.00325098 0.0031085  0.00326986]] ([[307.59928773 321.69840758 305.82359115]])\n"
     ]
    }
   ],
   "source": [
    "t = 50000  #setting an initial temperature\n",
    "M = 50    #number of iterations at each temperature\n",
    "\n",
    "x_curr = solutions[[253],:]\n",
    "x_best = np.copy(x_curr)\n",
    "\n",
    "f_curr = problem._evaluate(x_curr, {})['F']\n",
    "f_best, f_best_orig = np.copy(f_curr), np.copy(f_curr)\n",
    "\n",
    "solutionsChecked = 0\n",
    "done = False\n",
    "\n",
    "# Same idea as steepest ascent, but if a neighbor is not better than the original solution, it still has a chance\n",
    "# to become the new best solution based on some probability p.\n",
    "# the rate at which this happens is controlled by the temperature T.\n",
    "while not done:\n",
    "    if t < 1:\n",
    "        done = True\n",
    "        \n",
    "    m = 0\n",
    "    while m < M:\n",
    "        solutionsChecked += 1\n",
    "        # print(f\"k = {k}, m = {m}, s = {solutionsChecked} \\n\")\n",
    "        \n",
    "        N = neighborhood(x_curr, M)\n",
    "        idx = np.random.randint(len(N))\n",
    "        s = N[idx]        \n",
    "        \n",
    "        try:\n",
    "            eval_s = problem._evaluate(s, {})['F']\n",
    "        except Exception as e:\n",
    "            break\n",
    "        \n",
    "        if eval_s[0].mean() <= f_best[0].mean():\n",
    "            x_best = np.copy(s)\n",
    "            f_best = np.copy(eval_s)\n",
    "        else:\n",
    "            # In literature, the 1e-7 isn't there but if you leave it out, p=1 for almost every case, so useless\n",
    "            p = np.exp(-(eval_s[0].mean() - f_best[0].mean()) / (t*1e-7))\n",
    "            test_p = np.random.uniform(0, 1)\n",
    "            if test_p <= p:\n",
    "                x_best = np.copy(s)\n",
    "                f_best = np.copy(eval_s)\n",
    "        \n",
    "        m += 1\n",
    "    \n",
    "    t = 0.8*t  #cauchy cooling function\n",
    "    print(f\"s= {solutionsChecked}, t= {t}\")\n",
    "    \n",
    "print(f\"Final number of solutions checked: {solutionsChecked}\")\n",
    "print(f\"New solution inverted fitness: {f_best} ({1 / f_best})\")\n",
    "print(f\"Initial solution fitness: {f_best_orig} ({1 / f_best_orig})\")"
   ]
  },
  {
   "cell_type": "code",
   "execution_count": 37,
   "metadata": {},
   "outputs": [
    {
     "data": {
      "text/plain": [
       "0.0"
      ]
     },
     "execution_count": 37,
     "metadata": {},
     "output_type": "execute_result"
    }
   ],
   "source": []
  }
 ],
 "metadata": {
  "kernelspec": {
   "display_name": "ec110",
   "language": "python",
   "name": "python3"
  },
  "language_info": {
   "codemirror_mode": {
    "name": "ipython",
    "version": 3
   },
   "file_extension": ".py",
   "mimetype": "text/x-python",
   "name": "python",
   "nbconvert_exporter": "python",
   "pygments_lexer": "ipython3",
   "version": "3.9.17"
  }
 },
 "nbformat": 4,
 "nbformat_minor": 2
}
