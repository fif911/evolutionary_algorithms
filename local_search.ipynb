{
 "cells": [
  {
   "cell_type": "code",
   "execution_count": 1,
   "metadata": {},
   "outputs": [
    {
     "name": "stdout",
     "output_type": "stream",
     "text": [
      "pygame 2.5.1 (SDL 2.28.2, Python 3.9.17)\n",
      "Hello from the pygame community. https://www.pygame.org/contribute.html\n"
     ]
    }
   ],
   "source": [
    "import os\n",
    "import numpy as np\n",
    "import pandas as pd\n",
    "import seaborn as sns\n",
    "import matplotlib.pyplot as plt\n",
    "from scipy import optimize\n",
    "\n",
    "from sklearn.metrics import accuracy_score, f1_score\n",
    "from pymoo.core.problem import Problem\n",
    "from evoman.environment import Environment\n",
    "from fitness_functions import original_fitness, individual_gain\n",
    "from utils import simulation, verify_solution, init_env, run_pymoo_algorithm, initialise_script\n",
    "import math\n"
   ]
  },
  {
   "cell_type": "code",
   "execution_count": 2,
   "metadata": {},
   "outputs": [],
   "source": [
    "solutions = []\n",
    "for file in os.listdir('solutions_beats_5_enemies'):\n",
    "    if file.startswith('pymoo'):\n",
    "        new_solution = []\n",
    "        with open(f'solutions_beats_5_enemies/{file}') as f:\n",
    "            solutions.append(f.read().splitlines())\n",
    "            \n",
    "solutions = np.array(solutions, dtype=float)"
   ]
  },
  {
   "cell_type": "code",
   "execution_count": 3,
   "metadata": {},
   "outputs": [],
   "source": [
    "seed = 42\n",
    "POP_SIZE = 1\n",
    "ENEMIES = [1, 2, 3, 4, 5, 6, 7, 8]\n",
    "n_hidden_neurons = 10\n"
   ]
  },
  {
   "cell_type": "code",
   "execution_count": 4,
   "metadata": {},
   "outputs": [],
   "source": [
    "class objectives(Problem):\n",
    "    enemies: list[int]\n",
    "    env: Environment\n",
    "\n",
    "    def __init__(self, env: Environment, n_genes: int, enemies: list[int], n_objectives):\n",
    "        self.env = env\n",
    "        self.enemies = enemies\n",
    "        super().__init__(n_var=n_genes, n_obj=n_objectives, xl=-1, xu=1, type_var=float)\n",
    "\n",
    "    def _evaluate(self, x: list[np.array], out, *args, **kwargs):\n",
    "        #if POP_SIZE != len(x):\n",
    "        #    print(f\"WARNING: POP_SIZE != len(x) in evaluation step (this happens sometimes do not see why)\\n\"\n",
    "        #          f\"pop size: {POP_SIZE}; len x:{len(x)}\")\n",
    "        # Initialize\n",
    "        dict_enemies = {}\n",
    "        # Get fitness for each enemy\n",
    "        for enemy in self.enemies:\n",
    "            self.env.update_parameter('enemies', [enemy])\n",
    "\n",
    "            dict_enemies[enemy] = []\n",
    "            for individual_id in range(len(x)):\n",
    "                dict_enemies[enemy].append(\n",
    "                    simulation(self.env, x[individual_id], inverted_fitness=True, fitness_function=individual_gain))\n",
    "\n",
    "        # Return fitness outputs for enemies\n",
    "        objectives_fitness = {\n",
    "            \"objective_hard\": [np.mean([dict_enemies[enemy_id][ind_id] for enemy_id in [1, 6]]) for ind_id in\n",
    "                               range(len(x))],\n",
    "            \"objective_medium\": [np.mean([dict_enemies[enemy_id][ind_id] for enemy_id in [2, 5, 8]]) for ind_id in\n",
    "                                 range(len(x))],\n",
    "            \"objective_easy\": [np.mean([dict_enemies[enemy_id][ind_id] for enemy_id in [3, 4, 7]]) for ind_id in\n",
    "                               range(len(x))],\n",
    "        }\n",
    "\n",
    "        out[\"F\"] = np.column_stack([objectives_fitness[key] for key in objectives_fitness.keys()])\n",
    "        return out"
   ]
  },
  {
   "cell_type": "code",
   "execution_count": 5,
   "metadata": {},
   "outputs": [],
   "source": [
    "env, n_genes = init_env('local_search_test', ENEMIES, n_hidden_neurons)\n",
    "env.update_parameter('multiplemode', 'no')\n",
    "problem = objectives(\n",
    "        env=env,\n",
    "        n_genes=n_genes,\n",
    "        enemies=ENEMIES,\n",
    "        n_objectives=3)"
   ]
  },
  {
   "cell_type": "code",
   "execution_count": 11,
   "metadata": {},
   "outputs": [
    {
     "name": "stdout",
     "output_type": "stream",
     "text": [
      "[[0.00607702 0.00324837 0.00391076]]\n"
     ]
    }
   ],
   "source": [
    "x_curr = solutions[[0],:]\n",
    "x_best = np.copy(x_curr)\n",
    "\n",
    "f_curr = problem._evaluate(x_curr, {})['F']\n",
    "f_best, f_best_orig = np.copy(f_curr), np.copy(f_curr)\n",
    "\n",
    "n_nbrs = 25\n",
    "\n",
    "print(f_best)"
   ]
  },
  {
   "cell_type": "code",
   "execution_count": 7,
   "metadata": {},
   "outputs": [],
   "source": [
    "# This is the function that needs to be defined, this is how you find neighbors of solution x\n",
    "# For now, it gives a neighborhood where every gene has one 'mutation' or difference (the np.random.normal)\n",
    "# I could not find clear examples of algorithms for the neighbor generating\n",
    "\n",
    "def neighborhood(x, n):\n",
    "    nbrhood = []\n",
    "    for i in range(n):\n",
    "        new_nbr = np.copy(x) * np.random.normal(size=x.shape[1])\n",
    "        nbrhood.append(new_nbr)\n",
    "    \n",
    "    return nbrhood"
   ]
  },
  {
   "cell_type": "code",
   "execution_count": 12,
   "metadata": {},
   "outputs": [
    {
     "name": "stdout",
     "output_type": "stream",
     "text": [
      "Total number of solutions checked: 25\n",
      "Best value found so far: [[0.0069372  0.00695339 0.00689635]]\n",
      "Total number of solutions checked: 50\n",
      "Best value found so far: [[0.00692818 0.00694971 0.00691067]]\n",
      "Final number of solutions checked: 75\n",
      "New solution fitness: [[0.00692818 0.00694971 0.00691067]]\n",
      "Initial solution fitness: [[0.00607702 0.00324837 0.00391076]]\n"
     ]
    }
   ],
   "source": [
    "done = False\n",
    "solutionsChecked = 0\n",
    "\n",
    "while not done:\n",
    "    Neighborhood = neighborhood(x_curr, n_nbrs)\n",
    "    for s in Neighborhood:\n",
    "        solutionsChecked += 1\n",
    "        \n",
    "        try:\n",
    "            eval_s = problem._evaluate(s, {})['F']\n",
    "        except:\n",
    "            # print(\"Infeasible solution evaluated\")\n",
    "            continue\n",
    "        \n",
    "        if eval_s[0].mean() > f_best[0].mean():\n",
    "            x_best = np.copy(s)\n",
    "            f_best = np.copy(eval_s)\n",
    "    \n",
    "    if np.array_equal(f_best, f_curr):\n",
    "        done = True\n",
    "    else:\n",
    "        x_curr = np.copy(x_best)\n",
    "        f_curr = np.copy(f_best)\n",
    "        \n",
    "        print(f\"Total number of solutions checked: {solutionsChecked}\")\n",
    "        print(f\"Best value found so far: {f_best}\")\n",
    "        \n",
    "print(f\"Final number of solutions checked: {solutionsChecked}\")\n",
    "print(f\"New solution fitness: {f_best}\")\n",
    "print(f\"Initial solution fitness: {f_best_orig}\")"
   ]
  },
  {
   "cell_type": "code",
   "execution_count": null,
   "metadata": {},
   "outputs": [],
   "source": [
    "x_curr = solutions[[0],:]\n",
    "x_best = np.copy(x_curr)\n",
    "\n",
    "f_curr = problem._evaluate(solutions, {})['F']\n",
    "f_best = np.copy(f_curr)\n",
    "\n",
    "print(f_curr)"
   ]
  },
  {
   "cell_type": "code",
   "execution_count": 14,
   "metadata": {},
   "outputs": [
    {
     "ename": "KeyboardInterrupt",
     "evalue": "",
     "output_type": "error",
     "traceback": [
      "\u001b[1;31m---------------------------------------------------------------------------\u001b[0m",
      "\u001b[1;31mKeyboardInterrupt\u001b[0m                         Traceback (most recent call last)",
      "\u001b[1;32mc:\\Users\\beuze\\Documents\\Studie\\Forensic Science\\Evolutionary Computing\\evolutionary_algorithms\\local_search.ipynb Cell 10\u001b[0m line \u001b[0;36m2\n\u001b[0;32m     <a href='vscode-notebook-cell:/c%3A/Users/beuze/Documents/Studie/Forensic%20Science/Evolutionary%20Computing/evolutionary_algorithms/local_search.ipynb#X26sZmlsZQ%3D%3D?line=19'>20</a>\u001b[0m s \u001b[39m=\u001b[39m N[idx]        \n\u001b[0;32m     <a href='vscode-notebook-cell:/c%3A/Users/beuze/Documents/Studie/Forensic%20Science/Evolutionary%20Computing/evolutionary_algorithms/local_search.ipynb#X26sZmlsZQ%3D%3D?line=21'>22</a>\u001b[0m \u001b[39mtry\u001b[39;00m:\n\u001b[1;32m---> <a href='vscode-notebook-cell:/c%3A/Users/beuze/Documents/Studie/Forensic%20Science/Evolutionary%20Computing/evolutionary_algorithms/local_search.ipynb#X26sZmlsZQ%3D%3D?line=22'>23</a>\u001b[0m     eval_s \u001b[39m=\u001b[39m problem\u001b[39m.\u001b[39;49m_evaluate(s, {})[\u001b[39m'\u001b[39m\u001b[39mF\u001b[39m\u001b[39m'\u001b[39m]\n\u001b[0;32m     <a href='vscode-notebook-cell:/c%3A/Users/beuze/Documents/Studie/Forensic%20Science/Evolutionary%20Computing/evolutionary_algorithms/local_search.ipynb#X26sZmlsZQ%3D%3D?line=23'>24</a>\u001b[0m \u001b[39mexcept\u001b[39;00m \u001b[39mException\u001b[39;00m \u001b[39mas\u001b[39;00m e:\n\u001b[0;32m     <a href='vscode-notebook-cell:/c%3A/Users/beuze/Documents/Studie/Forensic%20Science/Evolutionary%20Computing/evolutionary_algorithms/local_search.ipynb#X26sZmlsZQ%3D%3D?line=24'>25</a>\u001b[0m     \u001b[39mbreak\u001b[39;00m\n",
      "\u001b[1;32mc:\\Users\\beuze\\Documents\\Studie\\Forensic Science\\Evolutionary Computing\\evolutionary_algorithms\\local_search.ipynb Cell 10\u001b[0m line \u001b[0;36m2\n\u001b[0;32m     <a href='vscode-notebook-cell:/c%3A/Users/beuze/Documents/Studie/Forensic%20Science/Evolutionary%20Computing/evolutionary_algorithms/local_search.ipynb#X26sZmlsZQ%3D%3D?line=19'>20</a>\u001b[0m     dict_enemies[enemy] \u001b[39m=\u001b[39m []\n\u001b[0;32m     <a href='vscode-notebook-cell:/c%3A/Users/beuze/Documents/Studie/Forensic%20Science/Evolutionary%20Computing/evolutionary_algorithms/local_search.ipynb#X26sZmlsZQ%3D%3D?line=20'>21</a>\u001b[0m     \u001b[39mfor\u001b[39;00m individual_id \u001b[39min\u001b[39;00m \u001b[39mrange\u001b[39m(\u001b[39mlen\u001b[39m(x)):\n\u001b[0;32m     <a href='vscode-notebook-cell:/c%3A/Users/beuze/Documents/Studie/Forensic%20Science/Evolutionary%20Computing/evolutionary_algorithms/local_search.ipynb#X26sZmlsZQ%3D%3D?line=21'>22</a>\u001b[0m         dict_enemies[enemy]\u001b[39m.\u001b[39mappend(\n\u001b[1;32m---> <a href='vscode-notebook-cell:/c%3A/Users/beuze/Documents/Studie/Forensic%20Science/Evolutionary%20Computing/evolutionary_algorithms/local_search.ipynb#X26sZmlsZQ%3D%3D?line=22'>23</a>\u001b[0m             simulation(\u001b[39mself\u001b[39;49m\u001b[39m.\u001b[39;49menv, x[individual_id], inverted_fitness\u001b[39m=\u001b[39;49m\u001b[39mTrue\u001b[39;49;00m, fitness_function\u001b[39m=\u001b[39;49mindividual_gain))\n\u001b[0;32m     <a href='vscode-notebook-cell:/c%3A/Users/beuze/Documents/Studie/Forensic%20Science/Evolutionary%20Computing/evolutionary_algorithms/local_search.ipynb#X26sZmlsZQ%3D%3D?line=24'>25</a>\u001b[0m \u001b[39m# Return fitness outputs for enemies\u001b[39;00m\n\u001b[0;32m     <a href='vscode-notebook-cell:/c%3A/Users/beuze/Documents/Studie/Forensic%20Science/Evolutionary%20Computing/evolutionary_algorithms/local_search.ipynb#X26sZmlsZQ%3D%3D?line=25'>26</a>\u001b[0m objectives_fitness \u001b[39m=\u001b[39m {\n\u001b[0;32m     <a href='vscode-notebook-cell:/c%3A/Users/beuze/Documents/Studie/Forensic%20Science/Evolutionary%20Computing/evolutionary_algorithms/local_search.ipynb#X26sZmlsZQ%3D%3D?line=26'>27</a>\u001b[0m     \u001b[39m\"\u001b[39m\u001b[39mobjective_hard\u001b[39m\u001b[39m\"\u001b[39m: [np\u001b[39m.\u001b[39mmean([dict_enemies[enemy_id][ind_id] \u001b[39mfor\u001b[39;00m enemy_id \u001b[39min\u001b[39;00m [\u001b[39m1\u001b[39m, \u001b[39m6\u001b[39m]]) \u001b[39mfor\u001b[39;00m ind_id \u001b[39min\u001b[39;00m\n\u001b[0;32m     <a href='vscode-notebook-cell:/c%3A/Users/beuze/Documents/Studie/Forensic%20Science/Evolutionary%20Computing/evolutionary_algorithms/local_search.ipynb#X26sZmlsZQ%3D%3D?line=27'>28</a>\u001b[0m                        \u001b[39mrange\u001b[39m(\u001b[39mlen\u001b[39m(x))],\n\u001b[1;32m   (...)\u001b[0m\n\u001b[0;32m     <a href='vscode-notebook-cell:/c%3A/Users/beuze/Documents/Studie/Forensic%20Science/Evolutionary%20Computing/evolutionary_algorithms/local_search.ipynb#X26sZmlsZQ%3D%3D?line=31'>32</a>\u001b[0m                        \u001b[39mrange\u001b[39m(\u001b[39mlen\u001b[39m(x))],\n\u001b[0;32m     <a href='vscode-notebook-cell:/c%3A/Users/beuze/Documents/Studie/Forensic%20Science/Evolutionary%20Computing/evolutionary_algorithms/local_search.ipynb#X26sZmlsZQ%3D%3D?line=32'>33</a>\u001b[0m }\n",
      "File \u001b[1;32mc:\\Users\\beuze\\Documents\\Studie\\Forensic Science\\Evolutionary Computing\\evolutionary_algorithms\\utils.py:20\u001b[0m, in \u001b[0;36msimulation\u001b[1;34m(env, xm, inverted_fitness, verbose, fitness_function)\u001b[0m\n\u001b[0;32m     10\u001b[0m \u001b[39mdef\u001b[39;00m \u001b[39msimulation\u001b[39m(env: Environment, xm: np\u001b[39m.\u001b[39mndarray, inverted_fitness\u001b[39m=\u001b[39m\u001b[39mTrue\u001b[39;00m, verbose\u001b[39m=\u001b[39m\u001b[39mFalse\u001b[39;00m,\n\u001b[0;32m     11\u001b[0m                fitness_function: Callable \u001b[39m=\u001b[39m \u001b[39mNone\u001b[39;00m):\n\u001b[0;32m     12\u001b[0m \u001b[39m    \u001b[39m\u001b[39m\"\"\"Run one episode and return the inverted fitness for minimization problem\u001b[39;00m\n\u001b[0;32m     13\u001b[0m \n\u001b[0;32m     14\u001b[0m \u001b[39m    Fitness function:\u001b[39;00m\n\u001b[1;32m   (...)\u001b[0m\n\u001b[0;32m     18\u001b[0m \u001b[39m    return_enemies: if True, return the player life, enemy life and time\u001b[39;00m\n\u001b[0;32m     19\u001b[0m \u001b[39m    \"\"\"\u001b[39;00m\n\u001b[1;32m---> 20\u001b[0m     f, p, e, t \u001b[39m=\u001b[39m env\u001b[39m.\u001b[39;49mplay(pcont\u001b[39m=\u001b[39;49mxm)\n\u001b[0;32m     21\u001b[0m     \u001b[39mif\u001b[39;00m fitness_function \u001b[39mis\u001b[39;00m \u001b[39mnot\u001b[39;00m \u001b[39mNone\u001b[39;00m:\n\u001b[0;32m     22\u001b[0m         f \u001b[39m=\u001b[39m fitness_function(p, e, t)\n",
      "File \u001b[1;32mc:\\Users\\beuze\\Documents\\Studie\\Forensic Science\\Evolutionary Computing\\evolutionary_algorithms\\evoman\\environment.py:578\u001b[0m, in \u001b[0;36mEnvironment.play\u001b[1;34m(self, pcont, econt)\u001b[0m\n\u001b[0;32m    576\u001b[0m     \u001b[39mreturn\u001b[39;00m \u001b[39mself\u001b[39m\u001b[39m.\u001b[39mmultiple(pcont, econt)\n\u001b[0;32m    577\u001b[0m \u001b[39melse\u001b[39;00m:\n\u001b[1;32m--> 578\u001b[0m     \u001b[39mreturn\u001b[39;00m \u001b[39mself\u001b[39;49m\u001b[39m.\u001b[39;49mrun_single(\u001b[39mself\u001b[39;49m\u001b[39m.\u001b[39;49menemies[\u001b[39m0\u001b[39;49m], pcont, econt)\n",
      "File \u001b[1;32mc:\\Users\\beuze\\Documents\\Studie\\Forensic Science\\Evolutionary Computing\\evolutionary_algorithms\\evoman\\environment.py:457\u001b[0m, in \u001b[0;36mEnvironment.run_single\u001b[1;34m(self, enemyn, pcont, econt)\u001b[0m\n\u001b[0;32m    454\u001b[0m         \u001b[39mreturn\u001b[39;00m\n\u001b[0;32m    456\u001b[0m \u001b[39m# updates objects and draws its itens on screen\u001b[39;00m\n\u001b[1;32m--> 457\u001b[0m \u001b[39mself\u001b[39;49m\u001b[39m.\u001b[39;49mtilemap\u001b[39m.\u001b[39;49mupdate(\u001b[39m33\u001b[39;49m \u001b[39m/\u001b[39;49m \u001b[39m1000.\u001b[39;49m, \u001b[39mself\u001b[39;49m)\n\u001b[0;32m    459\u001b[0m \u001b[39mif\u001b[39;00m \u001b[39mself\u001b[39m\u001b[39m.\u001b[39mvisuals:\n\u001b[0;32m    460\u001b[0m     \u001b[39mself\u001b[39m\u001b[39m.\u001b[39mscreen\u001b[39m.\u001b[39mfill((\u001b[39m250\u001b[39m, \u001b[39m250\u001b[39m, \u001b[39m250\u001b[39m))\n",
      "File \u001b[1;32mc:\\Users\\beuze\\Documents\\Studie\\Forensic Science\\Evolutionary Computing\\evolutionary_algorithms\\evoman\\tmx.py:706\u001b[0m, in \u001b[0;36mTileMap.update\u001b[1;34m(self, dt, *args)\u001b[0m\n\u001b[0;32m    704\u001b[0m \u001b[39mdef\u001b[39;00m \u001b[39mupdate\u001b[39m(\u001b[39mself\u001b[39m, dt, \u001b[39m*\u001b[39margs):\n\u001b[0;32m    705\u001b[0m     \u001b[39mfor\u001b[39;00m layer \u001b[39min\u001b[39;00m \u001b[39mself\u001b[39m\u001b[39m.\u001b[39mlayers:\n\u001b[1;32m--> 706\u001b[0m         layer\u001b[39m.\u001b[39;49mupdate(dt, \u001b[39m*\u001b[39;49margs)\n",
      "File \u001b[1;32mc:\\Users\\beuze\\anaconda3\\envs\\ec110\\lib\\site-packages\\pygame\\sprite.py:555\u001b[0m, in \u001b[0;36mAbstractGroup.update\u001b[1;34m(self, *args, **kwargs)\u001b[0m\n\u001b[0;32m    546\u001b[0m \u001b[39m\u001b[39m\u001b[39m\"\"\"call the update method of every member sprite\u001b[39;00m\n\u001b[0;32m    547\u001b[0m \n\u001b[0;32m    548\u001b[0m \u001b[39mGroup.update(*args, **kwargs): return None\u001b[39;00m\n\u001b[1;32m   (...)\u001b[0m\n\u001b[0;32m    552\u001b[0m \n\u001b[0;32m    553\u001b[0m \u001b[39m\"\"\"\u001b[39;00m\n\u001b[0;32m    554\u001b[0m \u001b[39mfor\u001b[39;00m sprite \u001b[39min\u001b[39;00m \u001b[39mself\u001b[39m\u001b[39m.\u001b[39msprites():\n\u001b[1;32m--> 555\u001b[0m     sprite\u001b[39m.\u001b[39mupdate(\u001b[39m*\u001b[39margs, \u001b[39m*\u001b[39m\u001b[39m*\u001b[39mkwargs)\n",
      "File \u001b[1;32mc:\\Users\\beuze\\Documents\\Studie\\Forensic Science\\Evolutionary Computing\\evolutionary_algorithms\\evoman\\player.py:110\u001b[0m, in \u001b[0;36mPlayer.update\u001b[1;34m(self, dt, game)\u001b[0m\n\u001b[0;32m    107\u001b[0m     \u001b[39mself\u001b[39m\u001b[39m.\u001b[39mvy \u001b[39m=\u001b[39m \u001b[39m1\u001b[39m\n\u001b[0;32m    108\u001b[0m     \u001b[39mself\u001b[39m\u001b[39m.\u001b[39mhy \u001b[39m=\u001b[39m \u001b[39m-\u001b[39m\u001b[39m900\u001b[39m\n\u001b[1;32m--> 110\u001b[0m jump, left, release, right, shoot \u001b[39m=\u001b[39m \u001b[39mself\u001b[39;49m\u001b[39m.\u001b[39;49mget_input(game)\n\u001b[0;32m    112\u001b[0m \u001b[39m# if the button is released before the jumping maximum height, them player stops going up.\u001b[39;00m\n\u001b[0;32m    113\u001b[0m \u001b[39mif\u001b[39;00m release \u001b[39m==\u001b[39m \u001b[39m1\u001b[39m \u001b[39mand\u001b[39;00m \u001b[39mself\u001b[39m\u001b[39m.\u001b[39mresting \u001b[39m==\u001b[39m \u001b[39m0\u001b[39m:\n",
      "File \u001b[1;32mc:\\Users\\beuze\\Documents\\Studie\\Forensic Science\\Evolutionary Computing\\evolutionary_algorithms\\evoman\\player.py:175\u001b[0m, in \u001b[0;36mPlayer.get_input\u001b[1;34m(self, game)\u001b[0m\n\u001b[0;32m    171\u001b[0m     jump, left, release, right, shoot \u001b[39m=\u001b[39m \u001b[39mself\u001b[39m\u001b[39m.\u001b[39mhuman_input(game)\n\u001b[0;32m    173\u001b[0m \u001b[39melif\u001b[39;00m game\u001b[39m.\u001b[39mplayermode \u001b[39m==\u001b[39m \u001b[39m'\u001b[39m\u001b[39mai\u001b[39m\u001b[39m'\u001b[39m:  \u001b[39m# player controlled by AI algorithm\u001b[39;00m\n\u001b[1;32m--> 175\u001b[0m     jump, left, release, right, shoot \u001b[39m=\u001b[39m \u001b[39mself\u001b[39;49m\u001b[39m.\u001b[39;49mai_input(game)\n\u001b[0;32m    176\u001b[0m \u001b[39mreturn\u001b[39;00m jump, left, release, right, shoot\n",
      "File \u001b[1;32mc:\\Users\\beuze\\Documents\\Studie\\Forensic Science\\Evolutionary Computing\\evolutionary_algorithms\\evoman\\player.py:308\u001b[0m, in \u001b[0;36mPlayer.ai_input\u001b[1;34m(self, game)\u001b[0m\n\u001b[0;32m    306\u001b[0m     game\u001b[39m.\u001b[39mplayer_controller\u001b[39m.\u001b[39mset(game\u001b[39m.\u001b[39mpcont, \u001b[39mlen\u001b[39m(\u001b[39mself\u001b[39m\u001b[39m.\u001b[39msensors\u001b[39m.\u001b[39mget(game)))\n\u001b[0;32m    307\u001b[0m \u001b[39m# calls the controller providing game sensors\u001b[39;00m\n\u001b[1;32m--> 308\u001b[0m actions \u001b[39m=\u001b[39m game\u001b[39m.\u001b[39;49mplayer_controller\u001b[39m.\u001b[39;49mcontrol(\u001b[39mself\u001b[39;49m\u001b[39m.\u001b[39;49msensors\u001b[39m.\u001b[39;49mget(game), game\u001b[39m.\u001b[39;49mpcont)\n\u001b[0;32m    309\u001b[0m \u001b[39mif\u001b[39;00m \u001b[39mlen\u001b[39m(actions) \u001b[39m<\u001b[39m \u001b[39m5\u001b[39m:\n\u001b[0;32m    310\u001b[0m     game\u001b[39m.\u001b[39mprint_logs(\u001b[39m\"\u001b[39m\u001b[39mERROR: Player controller must return 5 decision variables.\u001b[39m\u001b[39m\"\u001b[39m)\n",
      "File \u001b[1;32mc:\\Users\\beuze\\Documents\\Studie\\Forensic Science\\Evolutionary Computing\\evolutionary_algorithms\\demo_controller.py:50\u001b[0m, in \u001b[0;36mplayer_controller.control\u001b[1;34m(self, inputs, controller)\u001b[0m\n\u001b[0;32m     47\u001b[0m     output1 \u001b[39m=\u001b[39m sigmoid_activation(inputs\u001b[39m.\u001b[39mdot(\u001b[39mself\u001b[39m\u001b[39m.\u001b[39mweights1) \u001b[39m+\u001b[39m \u001b[39mself\u001b[39m\u001b[39m.\u001b[39mbias1)\n\u001b[0;32m     49\u001b[0m     \u001b[39m# Outputting activated second layer. Each entry in the output is an action\u001b[39;00m\n\u001b[1;32m---> 50\u001b[0m     output \u001b[39m=\u001b[39m sigmoid_activation(output1\u001b[39m.\u001b[39;49mdot(\u001b[39mself\u001b[39;49m\u001b[39m.\u001b[39;49mweights2) \u001b[39m+\u001b[39m \u001b[39mself\u001b[39m\u001b[39m.\u001b[39mbias2)[\u001b[39m0\u001b[39m]\n\u001b[0;32m     51\u001b[0m \u001b[39melse\u001b[39;00m:\n\u001b[0;32m     52\u001b[0m     bias \u001b[39m=\u001b[39m controller[:\u001b[39m5\u001b[39m]\u001b[39m.\u001b[39mreshape(\u001b[39m1\u001b[39m, \u001b[39m5\u001b[39m)\n",
      "\u001b[1;31mKeyboardInterrupt\u001b[0m: "
     ]
    }
   ],
   "source": [
    "t = 100000\n",
    "M = 10\n",
    "k = 0\n",
    "n_nbrs = 25\n",
    "\n",
    "solutionsChecked = 0\n",
    "\n",
    "done = False\n",
    "while not done:\n",
    "    if t < 1:\n",
    "        done = True\n",
    "    \n",
    "    m = 0\n",
    "    while m < M:\n",
    "        solutionsChecked += 1\n",
    "        # print(f\"k = {k}, m = {m}, s = {solutionsChecked} \\n\")\n",
    "        \n",
    "        N = neighborhood(x_curr, n_nbrs)\n",
    "        idx = np.random.randint(len(N))\n",
    "        s = N[idx]        \n",
    "        \n",
    "        try:\n",
    "            eval_s = problem._evaluate(s, {})['F']\n",
    "        except Exception as e:\n",
    "            break\n",
    "        \n",
    "        if eval_s[0].mean() >= f_best[0].mean():\n",
    "            x_best = np.copy(s)\n",
    "            f_best = np.copy(eval_s)\n",
    "        else:\n",
    "            p = np.exp(-(f_curr[0].mean() - eval_s[0].mean()) / t)\n",
    "            test_p = np.random.uniform(0, 1)\n",
    "            if test_p <= p:\n",
    "                x_best = np.copy(s)\n",
    "                f_best = np.copy(eval_s)\n",
    "            else:\n",
    "                print(test_p, p)\n",
    "        \n",
    "        m += 1\n",
    "        \n",
    "    k += 1\n",
    "    t = 0.8*t\n",
    "    print(f\"Temperature lowered to {t} (s= {solutionsChecked})\")\n",
    "    \n",
    "print(f\"Final number of solutions checked: {solutionsChecked}\")\n",
    "print(f\"New solution fitness: {f_best}\")\n",
    "print(f\"Initial solution fitness: {f_best_orig}\")"
   ]
  }
 ],
 "metadata": {
  "kernelspec": {
   "display_name": "ec110",
   "language": "python",
   "name": "python3"
  },
  "language_info": {
   "codemirror_mode": {
    "name": "ipython",
    "version": 3
   },
   "file_extension": ".py",
   "mimetype": "text/x-python",
   "name": "python",
   "nbconvert_exporter": "python",
   "pygments_lexer": "ipython3",
   "version": "3.9.17"
  }
 },
 "nbformat": 4,
 "nbformat_minor": 2
}
